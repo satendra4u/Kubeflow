{
 "cells": [
  {
   "cell_type": "code",
   "execution_count": 1,
   "id": "fa52d8be",
   "metadata": {},
   "outputs": [
    {
     "name": "stdout",
     "output_type": "stream",
     "text": [
      "Requirement already satisfied: kfp in /opt/anaconda3/envs/kubeflow/lib/python3.7/site-packages (1.8.13)\n",
      "Requirement already satisfied: kfp-server-api<2.0.0,>=1.1.2 in /opt/anaconda3/envs/kubeflow/lib/python3.7/site-packages (from kfp) (1.8.3)\n",
      "Requirement already satisfied: jsonschema<4,>=3.0.1 in /opt/anaconda3/envs/kubeflow/lib/python3.7/site-packages (from kfp) (3.2.0)\n",
      "Requirement already satisfied: typer<1.0,>=0.3.2 in /opt/anaconda3/envs/kubeflow/lib/python3.7/site-packages (from kfp) (0.6.1)\n",
      "Requirement already satisfied: uritemplate<4,>=3.0.1 in /opt/anaconda3/envs/kubeflow/lib/python3.7/site-packages (from kfp) (3.0.1)\n",
      "Requirement already satisfied: google-api-core!=2.0.*,!=2.1.*,!=2.2.*,!=2.3.0,<3.0.0dev,>=1.31.5 in /opt/anaconda3/envs/kubeflow/lib/python3.7/site-packages (from kfp) (2.8.2)\n",
      "Requirement already satisfied: requests-toolbelt<1,>=0.8.0 in /opt/anaconda3/envs/kubeflow/lib/python3.7/site-packages (from kfp) (0.9.1)\n",
      "Requirement already satisfied: cloudpickle<3,>=2.0.0 in /opt/anaconda3/envs/kubeflow/lib/python3.7/site-packages (from kfp) (2.1.0)\n",
      "Requirement already satisfied: pydantic<2,>=1.8.2 in /opt/anaconda3/envs/kubeflow/lib/python3.7/site-packages (from kfp) (1.9.1)\n",
      "Requirement already satisfied: click<9,>=7.1.2 in /opt/anaconda3/envs/kubeflow/lib/python3.7/site-packages (from kfp) (8.1.3)\n",
      "Requirement already satisfied: strip-hints<1,>=0.1.8 in /opt/anaconda3/envs/kubeflow/lib/python3.7/site-packages (from kfp) (0.1.10)\n",
      "Requirement already satisfied: fire<1,>=0.3.1 in /opt/anaconda3/envs/kubeflow/lib/python3.7/site-packages (from kfp) (0.4.0)\n",
      "Requirement already satisfied: PyYAML<6,>=5.3 in /opt/anaconda3/envs/kubeflow/lib/python3.7/site-packages (from kfp) (5.4.1)\n",
      "Requirement already satisfied: google-api-python-client<2,>=1.7.8 in /opt/anaconda3/envs/kubeflow/lib/python3.7/site-packages (from kfp) (1.12.11)\n",
      "Requirement already satisfied: tabulate<1,>=0.8.6 in /opt/anaconda3/envs/kubeflow/lib/python3.7/site-packages (from kfp) (0.8.10)\n",
      "Requirement already satisfied: protobuf<4,>=3.13.0 in /opt/anaconda3/envs/kubeflow/lib/python3.7/site-packages (from kfp) (3.20.1)\n",
      "Requirement already satisfied: Deprecated<2,>=1.2.7 in /opt/anaconda3/envs/kubeflow/lib/python3.7/site-packages (from kfp) (1.2.13)\n",
      "Requirement already satisfied: kubernetes<19,>=8.0.0 in /opt/anaconda3/envs/kubeflow/lib/python3.7/site-packages (from kfp) (18.20.0)\n",
      "Requirement already satisfied: kfp-pipeline-spec<0.2.0,>=0.1.14 in /opt/anaconda3/envs/kubeflow/lib/python3.7/site-packages (from kfp) (0.1.16)\n",
      "Requirement already satisfied: google-auth<2,>=1.6.1 in /opt/anaconda3/envs/kubeflow/lib/python3.7/site-packages (from kfp) (1.35.0)\n",
      "Requirement already satisfied: docstring-parser<1,>=0.7.3 in /opt/anaconda3/envs/kubeflow/lib/python3.7/site-packages (from kfp) (0.14.1)\n",
      "Requirement already satisfied: absl-py<2,>=0.9 in /opt/anaconda3/envs/kubeflow/lib/python3.7/site-packages (from kfp) (1.2.0)\n",
      "Requirement already satisfied: google-cloud-storage<2,>=1.20.0 in /opt/anaconda3/envs/kubeflow/lib/python3.7/site-packages (from kfp) (1.44.0)\n",
      "Requirement already satisfied: typing-extensions<5,>=3.7.4 in /opt/anaconda3/envs/kubeflow/lib/python3.7/site-packages (from kfp) (4.3.0)\n",
      "Requirement already satisfied: importlib-metadata in /opt/anaconda3/envs/kubeflow/lib/python3.7/site-packages (from click<9,>=7.1.2->kfp) (4.12.0)\n",
      "Requirement already satisfied: wrapt<2,>=1.10 in /opt/anaconda3/envs/kubeflow/lib/python3.7/site-packages (from Deprecated<2,>=1.2.7->kfp) (1.14.1)\n",
      "Requirement already satisfied: termcolor in /opt/anaconda3/envs/kubeflow/lib/python3.7/site-packages (from fire<1,>=0.3.1->kfp) (1.1.0)\n",
      "Requirement already satisfied: six in /opt/anaconda3/envs/kubeflow/lib/python3.7/site-packages (from fire<1,>=0.3.1->kfp) (1.16.0)\n",
      "Requirement already satisfied: googleapis-common-protos<2.0dev,>=1.56.2 in /opt/anaconda3/envs/kubeflow/lib/python3.7/site-packages (from google-api-core!=2.0.*,!=2.1.*,!=2.2.*,!=2.3.0,<3.0.0dev,>=1.31.5->kfp) (1.56.4)\n",
      "Requirement already satisfied: requests<3.0.0dev,>=2.18.0 in /opt/anaconda3/envs/kubeflow/lib/python3.7/site-packages (from google-api-core!=2.0.*,!=2.1.*,!=2.2.*,!=2.3.0,<3.0.0dev,>=1.31.5->kfp) (2.28.1)\n",
      "Requirement already satisfied: httplib2<1dev,>=0.15.0 in /opt/anaconda3/envs/kubeflow/lib/python3.7/site-packages (from google-api-python-client<2,>=1.7.8->kfp) (0.20.4)\n",
      "Requirement already satisfied: google-auth-httplib2>=0.0.3 in /opt/anaconda3/envs/kubeflow/lib/python3.7/site-packages (from google-api-python-client<2,>=1.7.8->kfp) (0.1.0)\n",
      "Requirement already satisfied: cachetools<5.0,>=2.0.0 in /opt/anaconda3/envs/kubeflow/lib/python3.7/site-packages (from google-auth<2,>=1.6.1->kfp) (4.2.4)\n",
      "Requirement already satisfied: pyasn1-modules>=0.2.1 in /opt/anaconda3/envs/kubeflow/lib/python3.7/site-packages (from google-auth<2,>=1.6.1->kfp) (0.2.8)\n",
      "Requirement already satisfied: rsa<5,>=3.1.4 in /opt/anaconda3/envs/kubeflow/lib/python3.7/site-packages (from google-auth<2,>=1.6.1->kfp) (4.9)\n",
      "Requirement already satisfied: setuptools>=40.3.0 in /opt/anaconda3/envs/kubeflow/lib/python3.7/site-packages (from google-auth<2,>=1.6.1->kfp) (61.2.0)\n",
      "Requirement already satisfied: google-resumable-media<3.0dev,>=1.3.0 in /opt/anaconda3/envs/kubeflow/lib/python3.7/site-packages (from google-cloud-storage<2,>=1.20.0->kfp) (2.3.3)\n",
      "Requirement already satisfied: google-cloud-core<3.0dev,>=1.6.0 in /opt/anaconda3/envs/kubeflow/lib/python3.7/site-packages (from google-cloud-storage<2,>=1.20.0->kfp) (2.3.2)\n",
      "Requirement already satisfied: attrs>=17.4.0 in /opt/anaconda3/envs/kubeflow/lib/python3.7/site-packages (from jsonschema<4,>=3.0.1->kfp) (21.4.0)\n",
      "Requirement already satisfied: pyrsistent>=0.14.0 in /opt/anaconda3/envs/kubeflow/lib/python3.7/site-packages (from jsonschema<4,>=3.0.1->kfp) (0.18.1)\n",
      "Requirement already satisfied: python-dateutil in /opt/anaconda3/envs/kubeflow/lib/python3.7/site-packages (from kfp-server-api<2.0.0,>=1.1.2->kfp) (2.8.2)\n",
      "Requirement already satisfied: urllib3>=1.15 in /opt/anaconda3/envs/kubeflow/lib/python3.7/site-packages (from kfp-server-api<2.0.0,>=1.1.2->kfp) (1.26.10)\n",
      "Requirement already satisfied: certifi in /opt/anaconda3/envs/kubeflow/lib/python3.7/site-packages (from kfp-server-api<2.0.0,>=1.1.2->kfp) (2022.6.15)\n",
      "Requirement already satisfied: websocket-client!=0.40.0,!=0.41.*,!=0.42.*,>=0.32.0 in /opt/anaconda3/envs/kubeflow/lib/python3.7/site-packages (from kubernetes<19,>=8.0.0->kfp) (1.3.3)\n",
      "Requirement already satisfied: requests-oauthlib in /opt/anaconda3/envs/kubeflow/lib/python3.7/site-packages (from kubernetes<19,>=8.0.0->kfp) (1.3.1)\n",
      "Requirement already satisfied: wheel in /opt/anaconda3/envs/kubeflow/lib/python3.7/site-packages (from strip-hints<1,>=0.1.8->kfp) (0.37.1)\n",
      "Requirement already satisfied: google-crc32c<2.0dev,>=1.0 in /opt/anaconda3/envs/kubeflow/lib/python3.7/site-packages (from google-resumable-media<3.0dev,>=1.3.0->google-cloud-storage<2,>=1.20.0->kfp) (1.3.0)\n",
      "Requirement already satisfied: pyparsing!=3.0.0,!=3.0.1,!=3.0.2,!=3.0.3,<4,>=2.4.2 in /opt/anaconda3/envs/kubeflow/lib/python3.7/site-packages (from httplib2<1dev,>=0.15.0->google-api-python-client<2,>=1.7.8->kfp) (3.0.9)\n",
      "Requirement already satisfied: pyasn1<0.5.0,>=0.4.6 in /opt/anaconda3/envs/kubeflow/lib/python3.7/site-packages (from pyasn1-modules>=0.2.1->google-auth<2,>=1.6.1->kfp) (0.4.8)\n",
      "Requirement already satisfied: charset-normalizer<3,>=2 in /opt/anaconda3/envs/kubeflow/lib/python3.7/site-packages (from requests<3.0.0dev,>=2.18.0->google-api-core!=2.0.*,!=2.1.*,!=2.2.*,!=2.3.0,<3.0.0dev,>=1.31.5->kfp) (2.1.0)\n",
      "Requirement already satisfied: idna<4,>=2.5 in /opt/anaconda3/envs/kubeflow/lib/python3.7/site-packages (from requests<3.0.0dev,>=2.18.0->google-api-core!=2.0.*,!=2.1.*,!=2.2.*,!=2.3.0,<3.0.0dev,>=1.31.5->kfp) (3.3)\n",
      "Requirement already satisfied: zipp>=0.5 in /opt/anaconda3/envs/kubeflow/lib/python3.7/site-packages (from importlib-metadata->click<9,>=7.1.2->kfp) (3.8.1)\n",
      "Requirement already satisfied: oauthlib>=3.0.0 in /opt/anaconda3/envs/kubeflow/lib/python3.7/site-packages (from requests-oauthlib->kubernetes<19,>=8.0.0->kfp) (3.2.0)\n"
     ]
    }
   ],
   "source": [
    "!python3 -m pip install kfp --upgrade --user"
   ]
  },
  {
   "cell_type": "code",
   "execution_count": 2,
   "id": "42956844",
   "metadata": {},
   "outputs": [],
   "source": [
    "EXPERIMENT_NAME = 'Simple notebook pipeline'        # Name of the experiment in the UI\n",
    "BASE_IMAGE = 'tensorflow/tensorflow:2.0.0b0-py3'    # Base image used for components in the pipeline"
   ]
  },
  {
   "cell_type": "code",
   "execution_count": 3,
   "id": "e1eef772",
   "metadata": {},
   "outputs": [],
   "source": [
    "import kfp\n",
    "import kfp.dsl as dsl\n",
    "from kfp import compiler\n",
    "from kfp import components"
   ]
  },
  {
   "cell_type": "code",
   "execution_count": 7,
   "id": "d52e2660",
   "metadata": {},
   "outputs": [
    {
     "name": "stderr",
     "output_type": "stream",
     "text": [
      "/opt/anaconda3/envs/kubeflow/lib/python3.7/site-packages/ipykernel_launcher.py:4: DeprecationWarning: Call to deprecated function (or staticmethod) python_component. (This decorator does not seem to be used, so we deprecate it. If you need this decorator, please create an issue at https://github.com/kubeflow/pipelines/issues) -- Deprecated since version 0.2.6.\n",
      "  after removing the cwd from sys.path.\n"
     ]
    }
   ],
   "source": [
    "@dsl.python_component(\n",
    "    name='add_op',\n",
    "    description='adds two numbers',\n",
    "    base_image=BASE_IMAGE  # you can define the base image here, or when you build in the next step. \n",
    ")\n",
    "\n",
    "def add(a: float, b: float) -> float:\n",
    "    '''Calculates sum of two arguments'''\n",
    "    print(a, '+', b, '=', a + b)\n",
    "    return a + b"
   ]
  },
  {
   "cell_type": "code",
   "execution_count": 8,
   "id": "b5acff4e",
   "metadata": {},
   "outputs": [],
   "source": [
    "# Convert the function to a pipeline operation.\n",
    "add_op = components.func_to_container_op(\n",
    "    add,\n",
    "    base_image=BASE_IMAGE, \n",
    ")"
   ]
  },
  {
   "cell_type": "code",
   "execution_count": null,
   "id": "12bf07dc",
   "metadata": {},
   "outputs": [],
   "source": []
  }
 ],
 "metadata": {
  "kernelspec": {
   "display_name": "Python 3 (ipykernel)",
   "language": "python",
   "name": "python3"
  },
  "language_info": {
   "codemirror_mode": {
    "name": "ipython",
    "version": 3
   },
   "file_extension": ".py",
   "mimetype": "text/x-python",
   "name": "python",
   "nbconvert_exporter": "python",
   "pygments_lexer": "ipython3",
   "version": "3.7.13"
  }
 },
 "nbformat": 4,
 "nbformat_minor": 5
}
