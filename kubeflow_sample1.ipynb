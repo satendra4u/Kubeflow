{
 "cells": [
  {
   "cell_type": "code",
   "execution_count": 45,
   "id": "53c80b51",
   "metadata": {},
   "outputs": [],
   "source": [
    "import kfp"
   ]
  },
  {
   "cell_type": "code",
   "execution_count": 46,
   "id": "43cb6918",
   "metadata": {},
   "outputs": [],
   "source": [
    "import kfp.components as comp"
   ]
  },
  {
   "cell_type": "code",
   "execution_count": 47,
   "id": "123d62fe",
   "metadata": {},
   "outputs": [],
   "source": [
    "import urllib"
   ]
  },
  {
   "cell_type": "code",
   "execution_count": 48,
   "id": "f19297ca",
   "metadata": {},
   "outputs": [],
   "source": [
    "def merge_csv(file_path: comp.InputPath('Tarball'),\n",
    "              output_csv: comp.OutputPath('CSV')):\n",
    "  import glob\n",
    "  import pandas as pd\n",
    "  import tarfile\n",
    "\n",
    "  tarfile.open(name=file_path, mode=\"r|gz\").extractall('data')\n",
    "  df = pd.concat(\n",
    "      [pd.read_csv(csv_file, header=None) \n",
    "       for csv_file in glob.glob('data/*.csv')])\n",
    "  df.to_csv(output_csv, index=False, header=False)"
   ]
  },
  {
   "cell_type": "code",
   "execution_count": 49,
   "id": "a6e8c05e",
   "metadata": {},
   "outputs": [],
   "source": [
    "create_step_merge_csv = kfp.components.create_component_from_func(\n",
    "    func=merge_csv,\n",
    "    output_component_file='component.yaml', # This is optional. It saves the component spec for future use.\n",
    "    base_image='python:3.7',\n",
    "    packages_to_install=['pandas==1.1.4'])"
   ]
  },
  {
   "cell_type": "code",
   "execution_count": 50,
   "id": "3515d32b",
   "metadata": {},
   "outputs": [],
   "source": [
    "web_downloader_op = kfp.components.load_component_from_url(\n",
    "    'https://raw.githubusercontent.com/kubeflow/pipelines/master/components/contrib/web/Download/component.yaml')"
   ]
  },
  {
   "cell_type": "code",
   "execution_count": 51,
   "id": "005153fb",
   "metadata": {},
   "outputs": [],
   "source": [
    "# Define a pipeline and create a task from a component:\n",
    "def my_pipeline(url):\n",
    "  url='https://storage.googleapis.com/ml-pipeline-playground/iris-csv-files.tar.gz'\n",
    "  web_downloader_task = web_downloader_op(url=url)\n",
    "  merge_csv_task = create_step_merge_csv(file=web_downloader_task.outputs['data'])\n",
    "  # The outputs of the merge_csv_task can be referenced using the\n",
    "  # merge_csv_task.outputs dictionary: merge_csv_task.outputs['output_csv']"
   ]
  },
  {
   "cell_type": "code",
   "execution_count": 52,
   "id": "5fcb4fc9",
   "metadata": {},
   "outputs": [],
   "source": [
    "#Compile and run your pipeline\n",
    "#Option 1 - Run the following to compile your pipeline and save it as pipeline.yaml.\n",
    "kfp.compiler.Compiler().compile(\n",
    "    pipeline_func=my_pipeline,\n",
    "    package_path='pipeline.yaml')\n",
    "\n"
   ]
  },
  {
   "cell_type": "code",
   "execution_count": null,
   "id": "c099be6b",
   "metadata": {},
   "outputs": [],
   "source": []
  },
  {
   "cell_type": "code",
   "execution_count": null,
   "id": "641676ef",
   "metadata": {},
   "outputs": [],
   "source": []
  },
  {
   "cell_type": "code",
   "execution_count": null,
   "id": "a3f66970",
   "metadata": {},
   "outputs": [],
   "source": []
  }
 ],
 "metadata": {
  "kernelspec": {
   "display_name": "Python 3 (ipykernel)",
   "language": "python",
   "name": "python3"
  },
  "language_info": {
   "codemirror_mode": {
    "name": "ipython",
    "version": 3
   },
   "file_extension": ".py",
   "mimetype": "text/x-python",
   "name": "python",
   "nbconvert_exporter": "python",
   "pygments_lexer": "ipython3",
   "version": "3.7.13"
  }
 },
 "nbformat": 4,
 "nbformat_minor": 5
}
